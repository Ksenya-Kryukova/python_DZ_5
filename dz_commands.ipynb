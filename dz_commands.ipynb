{
 "cells": [
  {
   "cell_type": "markdown",
   "metadata": {},
   "source": [
    "Вы работаете секретарем и вам постоянно приходят различные документы. Вы должны быть очень внимательны, чтобы не потерять ни один документ. Каталог документов хранится в следующем виде:"
   ]
  },
  {
   "cell_type": "code",
   "execution_count": 3,
   "metadata": {},
   "outputs": [],
   "source": [
    "documents = [\n",
    "    {'type': 'passport', 'number': '2207 876234', 'name': 'Василий Гупкин'},\n",
    "    {'type': 'invoice', 'number': '11-2', 'name': 'Геннадий Покемонов'},\n",
    "    {'type': 'insurance', 'number': '10006', 'name': 'Аристарх Павлов'}\n",
    "]"
   ]
  },
  {
   "cell_type": "markdown",
   "metadata": {},
   "source": [
    "Перечень полок, на которых находятся документы хранится в следующем виде:"
   ]
  },
  {
   "cell_type": "code",
   "execution_count": 4,
   "metadata": {},
   "outputs": [],
   "source": [
    "directories = {\n",
    "    '1': ['2207 876234', '11-2'],\n",
    "    '2': ['10006'],\n",
    "    '3': []\n",
    "}"
   ]
  },
  {
   "cell_type": "markdown",
   "metadata": {},
   "source": [
    "Необходимо реализовать пользовательские команды (внимание! это не название функций, которые должны быть выразительными, а команды, которые вводит пользователь, чтобы получить необходимый результат):\n",
    "\n",
    "p – people – команда, которая спросит номер документа и выведет имя человека, которому он принадлежит;\n",
    "s – shelf – команда, которая спросит номер документа и выведет номер полки, на которой он находится\n",
    "Правильно обработайте ситуации, когда пользователь будет вводить несуществующий документ.\n",
    "l – list – команда, которая выведет список всех документов в формате\n",
    "passport \"2207 876234\" \"Василий Гупкин\"\n",
    "as – add shelf – команда, которая спросит номер новой полки и добавит ее в перечень. Предусмотрите случай, когда пользователь добавляет полку, которая уже существует.\n",
    "d – delete – команда, которая спросит номер документа и удалит его из каталога и из перечня полок. Предусмотрите сценарий, когда пользователь вводит несуществующий документ;\n",
    "m – move – команда, которая спросит номер документа и целевую полку и переместит его с текущей полки на целевую. Корректно обработайте кейсы, когда пользователь пытается переместить несуществующий документ или переместить документ на несуществующую полку;\n",
    "a – add – команда, которая добавит новый документ в каталог и в перечень полок, спросив его номер, тип, имя владельца и номер полки, на котором он будет храниться. Корректно обработайте ситуацию, когда пользователь будет пытаться добавить документ на несуществующую полку."
   ]
  },
  {
   "cell_type": "code",
   "execution_count": 10,
   "metadata": {},
   "outputs": [
    {
     "name": "stdout",
     "output_type": "stream",
     "text": [
      "Введите номер документа: 11-2\n",
      "Геннадий Покемонов\n"
     ]
    }
   ],
   "source": [
    "documents = [\n",
    "    {'type': 'passport', 'number': '2207 876234', 'name': 'Василий Гупкин'},\n",
    "    {'type': 'invoice', 'number': '11-2', 'name': 'Геннадий Покемонов'},\n",
    "    {'type': 'insurance', 'number': '10006', 'name': 'Аристарх Павлов'}\n",
    "]\n",
    "\n",
    "directories = {\n",
    "    '1': ['2207 876234', '11-2'],\n",
    "    '2': ['10006'],\n",
    "    '3': []\n",
    "}\n",
    "\n",
    "document_number = input(\"Введите номер документа: \")\n",
    "\n",
    "# команда, которая спросит номер документа и выведет имя человека, которому он принадлежит\n",
    "\n",
    "def people(document_number):\n",
    "    for x in documents:\n",
    "        if x['number'] == document_number:\n",
    "            return x['name']\n",
    "\n",
    "print(people(document_number))"
   ]
  },
  {
   "cell_type": "code",
   "execution_count": 11,
   "metadata": {},
   "outputs": [
    {
     "name": "stdout",
     "output_type": "stream",
     "text": [
      "Введите номер документа: 11-2\n",
      "Номер полки, на которой находится документ -  1\n"
     ]
    }
   ],
   "source": [
    "documents = [\n",
    "    {'type': 'passport', 'number': '2207 876234', 'name': 'Василий Гупкин'},\n",
    "    {'type': 'invoice', 'number': '11-2', 'name': 'Геннадий Покемонов'},\n",
    "    {'type': 'insurance', 'number': '10006', 'name': 'Аристарх Павлов'}\n",
    "]\n",
    "\n",
    "directories = {\n",
    "    '1': ['2207 876234', '11-2'],\n",
    "    '2': ['10006'],\n",
    "    '3': []\n",
    "}\n",
    "\n",
    "# команда, которая спросит номер документа и выведет номер полки, на которой он находится\n",
    "\n",
    "document_number = input(\"Введите номер документа: \")\n",
    "def shelf_number(document_number):\n",
    "    for y in directories:\n",
    "        if document_number in directories[y]:\n",
    "            return y\n",
    "    return \"document undefined\"\n",
    "\n",
    "print('Номер полки, на которой находится документ - ', shelf_number(document_number))"
   ]
  },
  {
   "cell_type": "code",
   "execution_count": 12,
   "metadata": {},
   "outputs": [
    {
     "name": "stdout",
     "output_type": "stream",
     "text": [
      "passport \"2207 876234\" \"Василий Гупкин\"\n",
      "invoice \"11-2\" \"Геннадий Покемонов\"\n",
      "insurance \"10006\" \"Аристарх Павлов\"\n"
     ]
    }
   ],
   "source": [
    "documents = [\n",
    "    {'type': 'passport', 'number': '2207 876234', 'name': 'Василий Гупкин'},\n",
    "    {'type': 'invoice', 'number': '11-2', 'name': 'Геннадий Покемонов'},\n",
    "    {'type': 'insurance', 'number': '10006', 'name': 'Аристарх Павлов'}\n",
    "]\n",
    "\n",
    "directories = {\n",
    "    '1': ['2207 876234', '11-2'],\n",
    "    '2': ['10006'],\n",
    "    '3': []\n",
    "}\n",
    "\n",
    "# команда, которая выведет список всех документов в формате\n",
    "\n",
    "def list_n():\n",
    "    for x in documents:\n",
    "        type = x['type']\n",
    "        number = x['number']\n",
    "        name = x['name']\n",
    "        print('{0} \"{1}\" \"{2}\"'.format(type, number, name))\n",
    "\n",
    "list_n()"
   ]
  },
  {
   "cell_type": "code",
   "execution_count": 13,
   "metadata": {},
   "outputs": [
    {
     "name": "stdout",
     "output_type": "stream",
     "text": [
      "Введите номер новой полки: 4\n",
      "{'1': ['2207 876234', '11-2'], '2': ['10006'], '3': [], '4': []}\n"
     ]
    }
   ],
   "source": [
    "documents = [\n",
    "    {'type': 'passport', 'number': '2207 876234', 'name': 'Василий Гупкин'},\n",
    "    {'type': 'invoice', 'number': '11-2', 'name': 'Геннадий Покемонов'},\n",
    "    {'type': 'insurance', 'number': '10006', 'name': 'Аристарх Павлов'}\n",
    "]\n",
    "\n",
    "directories = {\n",
    "    '1': ['2207 876234', '11-2'],\n",
    "    '2': ['10006'],\n",
    "    '3': []\n",
    "}\n",
    "\n",
    "# команда, которая спросит номер новой полки и добавит ее в перечень. \n",
    "#Предусмотрите случай, когда пользователь добавляет полку, которая уже существует\n",
    "\n",
    "shelf_id = input(\"Введите номер новой полки: \")\n",
    "def add_shelf(shelf_id):\n",
    "    if shelf_id in directories:\n",
    "        return \"Полки уже существует\"\n",
    "    else :\n",
    "        directories[shelf_id] = []\n",
    "        return print(directories)\n",
    "\n",
    "add_shelf(shelf_id)"
   ]
  },
  {
   "cell_type": "code",
   "execution_count": 14,
   "metadata": {},
   "outputs": [
    {
     "name": "stdout",
     "output_type": "stream",
     "text": [
      "Введите номер документа: 11-2\n",
      "Документ успешно удален\n",
      "[{'type': 'passport', 'number': '2207 876234', 'name': 'Василий Гупкин'}, {'type': 'insurance', 'number': '10006', 'name': 'Аристарх Павлов'}]\n",
      "{'1': ['2207 876234'], '2': ['10006'], '3': []}\n"
     ]
    }
   ],
   "source": [
    "documents = [\n",
    "    {'type': 'passport', 'number': '2207 876234', 'name': 'Василий Гупкин'},\n",
    "    {'type': 'invoice', 'number': '11-2', 'name': 'Геннадий Покемонов'},\n",
    "    {'type': 'insurance', 'number': '10006', 'name': 'Аристарх Павлов'}\n",
    "]\n",
    "\n",
    "directories = {\n",
    "    '1': ['2207 876234', '11-2'],\n",
    "    '2': ['10006'],\n",
    "    '3': []\n",
    "}\n",
    "\n",
    "# команда, которая спросит номер документа и удалит его из каталога и из перечня полок. Предусмотрите сценарий, \n",
    "# когда пользователь вводит несуществующий документ\n",
    "\n",
    "def delete_doc(document_number):\n",
    "    document_number = input(\"Введите номер документа: \")\n",
    "    initial_len = len(documents)\n",
    "    for i, d in enumerate(documents):\n",
    "        if d[\"number\"] == document_number:\n",
    "            documents.pop(i)\n",
    "\n",
    "    if initial_len == len(documents):\n",
    "        return \"Документ не существует\"\n",
    "\n",
    "    for key, value in directories.items():\n",
    "        if document_number in value:\n",
    "            value.remove(document_number)\n",
    "\n",
    "    return \"Документ успешно удален\"\n",
    "\n",
    "print(delete_doc(document_number))\n",
    "print(documents)\n",
    "print(directories)"
   ]
  },
  {
   "cell_type": "code",
   "execution_count": null,
   "metadata": {},
   "outputs": [],
   "source": [
    "documents = [\n",
    "    {'type': 'passport', 'number': '2207 876234', 'name': 'Василий Гупкин'},\n",
    "    {'type': 'invoice', 'number': '11-2', 'name': 'Геннадий Покемонов'},\n",
    "    {'type': 'insurance', 'number': '10006', 'name': 'Аристарх Павлов'}\n",
    "]\n",
    "\n",
    "directories = {\n",
    "    '1': ['2207 876234', '11-2'],\n",
    "    '2': ['10006'],\n",
    "    '3': []\n",
    "}\n",
    "\n",
    "# команда, которая спросит номер документа и целевую полку и переместит его с текущей полки на целевую. Корректно обработайте кейсы, \n",
    "# когда пользователь пытается переместить несуществующий документ или переместить документ на несуществующую полку\n",
    "\n",
    "def move_doc(document_number, shelf_id):\n",
    "    doc_existence = False\n",
    "\n",
    "    if shelf_id not in directories:\n",
    "        return \"Полки не существует\"\n",
    "  \n",
    "    for k, v in directories.items():\n",
    "        if document_number in v:\n",
    "            doc_existence = True\n",
    "            directories[shelf_id] += [document_number]\n",
    "            v.remove(document_number)\n",
    "\n",
    "    if doc_existence:\n",
    "        return \"Документ успешно перемещен\"\n",
    "    else :\n",
    "        return \"Документ не существует\"\n",
    "document_number = input(\"Введите номер документа: \")\n",
    "shelf_id = input(\"Введите номер полки, на которую хотите переместить документ: \")\n",
    "print(move_doc(document_number, shelf_id))\n",
    "print(directories)"
   ]
  },
  {
   "cell_type": "code",
   "execution_count": 17,
   "metadata": {},
   "outputs": [
    {
     "name": "stdout",
     "output_type": "stream",
     "text": [
      "Введите тип документа: passport\n",
      "Введите номер документа: 1234 569874\n",
      "Введите имя владельца документа: Anna Ivanova\n",
      "Введит номер полки dict_keys(['1', '2', '3']) : 2\n",
      "Документ успешно добавлен\n",
      "[{'type': 'passport', 'number': '2207 876234', 'name': 'Василий Гупкин'}, {'type': 'invoice', 'number': '11-2', 'name': 'Геннадий Покемонов'}, {'type': 'insurance', 'number': '10006', 'name': 'Аристарх Павлов'}, {'type': 'passport', 'number': '1234 569874', 'name': 'Anna Ivanova'}]\n",
      "{'1': ['2207 876234', '11-2'], '2': ['10006', '1234 569874'], '3': []}\n"
     ]
    }
   ],
   "source": [
    "documents = [\n",
    "    {'type': 'passport', 'number': '2207 876234', 'name': 'Василий Гупкин'},\n",
    "    {'type': 'invoice', 'number': '11-2', 'name': 'Геннадий Покемонов'},\n",
    "    {'type': 'insurance', 'number': '10006', 'name': 'Аристарх Павлов'}\n",
    "]\n",
    "\n",
    "directories = {\n",
    "    '1': ['2207 876234', '11-2'],\n",
    "    '2': ['10006'],\n",
    "    '3': []\n",
    "}\n",
    "\n",
    "# команда, которая добавит новый документ в каталог и в перечень полок, спросив его номер, тип, имя владельца и номер полки, \n",
    "# на котором он будет храниться. Корректно обработайте ситуацию, \n",
    "# когда пользователь будет пытаться добавить документ на несуществующую полку\n",
    "\n",
    "def add_doc(doc_type, document_number, doc_owner, shelf_id):\n",
    "    if shelf_id not in directories:\n",
    "        return \"Полки не существует\"\n",
    "    \n",
    "    new_doc = dict(type=doc_type, number=document_number, name=doc_owner)\n",
    "    documents.append(new_doc)\n",
    "    directories[shelf_id] += [document_number]\n",
    "\n",
    "    return \"Документ успешно добавлен\"\n",
    "\n",
    "doc_type = input(\"Введите тип документа: \")\n",
    "document_number = input(\"Введите номер документа: \")\n",
    "doc_owner = input(\"Введите имя владельца документа: \")\n",
    "shelf_id = input(\"Введит номер полки {} : \".format(directories.keys()))\n",
    "print(add_doc(doc_type, document_number, doc_owner, shelf_id))\n",
    "print(documents)\n",
    "print(directories)"
   ]
  },
  {
   "cell_type": "code",
   "execution_count": 19,
   "metadata": {},
   "outputs": [],
   "source": [
    "def main_f() :\n",
    "    while True:    \n",
    "        user_input = input('Введите код команды:')\n",
    "        if user_input == 'p' :\n",
    "            document_number = input(\"Введите номер документа: \")\n",
    "            print(people(document_number))\n",
    "        elif user_input == 's' :\n",
    "            document_number = input(\"Введите номер документа: \")\n",
    "            print('Номер полки, на которой находится документ - ', shelf_number(document_number))\n",
    "        elif user_input == 'l' :\n",
    "            print(list_n())\n",
    "        elif user_input == 'as' :\n",
    "            shelf_id = input(\"Введите номер новой полки: \")\n",
    "            print(add_shelf(shelf_id))\n",
    "        elif user_input == 'd' :\n",
    "            document_number = input(\"Введите номер документа: \")\n",
    "            print(delete_doc(document_number))\n",
    "            print(documents)\n",
    "            print(directories)\n",
    "        elif user_input == 'm' :\n",
    "            document_number = input(\"Введите номер документа: \")\n",
    "            shelf_id = input(\"Введите номер полки, на которую хотите переместить документ: \")\n",
    "            print(move_doc(document_number, shelf_id))\n",
    "            print(directories)\n",
    "        elif user_input == 'a' :\n",
    "            doc_type = input(\"Введите тип документа: \")\n",
    "            document_number = input(\"Введите номер документа: \")\n",
    "            doc_owner = input(\"Введите имя владельца документа: \")\n",
    "            shelf_id = input(\"Введит номер полки {} : \".format(directories.keys()))\n",
    "            print(add_doc(doc_type, document_number, doc_owner, shelf_id))\n",
    "            print(documents)\n",
    "            print(directories)\n",
    "        else :\n",
    "            print('Неверный код команды')\n",
    "            break"
   ]
  },
  {
   "cell_type": "code",
   "execution_count": 20,
   "metadata": {},
   "outputs": [
    {
     "name": "stdout",
     "output_type": "stream",
     "text": [
      "Введите код команды:p\n",
      "Введите номер документа: 11-2\n",
      "Геннадий Покемонов\n",
      "Введите код команды:s\n",
      "Введите номер документа: 11-2\n",
      "Номер полки, на которой находится документ -  1\n",
      "Введите код команды:l\n",
      "passport \"2207 876234\" \"Василий Гупкин\"\n",
      "invoice \"11-2\" \"Геннадий Покемонов\"\n",
      "insurance \"10006\" \"Аристарх Павлов\"\n",
      "passport \"1234 569874\" \"Anna Ivanova\"\n",
      "None\n",
      "Введите код команды:m\n",
      "Введите номер документа: 11-2\n",
      "Введите номер полки, на которую хотите переместить документ: 3\n",
      "Введите номер документа: a\n",
      "Введите номер полки, на которую хотите переместить документ: 3\n",
      "Документ не существует\n",
      "{'1': ['2207 876234', '11-2'], '2': ['10006', '1234 569874'], '3': []}\n",
      "Введите код команды:m\n",
      "Введите номер документа: 11-2\n",
      "Введите номер полки, на которую хотите переместить документ: 3\n",
      "Введите номер документа: 11-2\n",
      "Введите номер полки, на которую хотите переместить документ: 3\n",
      "Документ успешно перемещен\n",
      "{'1': ['2207 876234'], '2': ['10006', '1234 569874'], '3': ['11-2']}\n",
      "Введите код команды:as\n",
      "Введите номер новой полки: 5\n",
      "{'1': ['2207 876234'], '2': ['10006', '1234 569874'], '3': ['11-2'], '5': []}\n",
      "None\n",
      "Введите код команды:a\n",
      "Введите тип документа: passport\n",
      "Введите номер документа: 4613 236854\n",
      "Введите имя владельца документа: Max Plank\n",
      "Введит номер полки dict_keys(['1', '2', '3', '5']) : 5\n",
      "Документ успешно добавлен\n",
      "[{'type': 'passport', 'number': '2207 876234', 'name': 'Василий Гупкин'}, {'type': 'invoice', 'number': '11-2', 'name': 'Геннадий Покемонов'}, {'type': 'insurance', 'number': '10006', 'name': 'Аристарх Павлов'}, {'type': 'passport', 'number': '1234 569874', 'name': 'Anna Ivanova'}, {'type': 'passport', 'number': '4613 236854', 'name': 'Max Plank'}]\n",
      "{'1': ['2207 876234'], '2': ['10006', '1234 569874'], '3': ['11-2'], '5': ['4613 236854']}\n",
      "Введите код команды:f\n",
      "Неверный код команды\n"
     ]
    }
   ],
   "source": [
    "main_f()"
   ]
  }
 ],
 "metadata": {
  "kernelspec": {
   "display_name": "Python 3",
   "language": "python",
   "name": "python3"
  },
  "language_info": {
   "codemirror_mode": {
    "name": "ipython",
    "version": 3
   },
   "file_extension": ".py",
   "mimetype": "text/x-python",
   "name": "python",
   "nbconvert_exporter": "python",
   "pygments_lexer": "ipython3",
   "version": "3.7.6"
  }
 },
 "nbformat": 4,
 "nbformat_minor": 4
}
